{
 "cells": [
  {
   "cell_type": "code",
   "execution_count": 3,
   "metadata": {},
   "outputs": [
    {
     "name": "stdout",
     "output_type": "stream",
     "text": [
      "Movie data has been saved to movies_data.csv\n"
     ]
    }
   ],
   "source": [
    "import requests\n",
    "import pandas as pd\n",
    "import os\n",
    "from dotenv import load_dotenv\n",
    "\n",
    "# Load API key from .env file\n",
    "load_dotenv()\n",
    "API_KEY = os.getenv('TMDB_API_KEY')\n",
    "BASE_URL = 'https://api.themoviedb.org/3'\n",
    "\n",
    "def fetch_popular_movies(api_key, base_url, pages=1):\n",
    "    all_movies = []\n",
    "    for page in range(1, pages + 1):\n",
    "        url = f\"{base_url}/movie/popular\"\n",
    "        params = {'api_key': api_key, 'language': 'en-US', 'page': page}\n",
    "        response = requests.get(url, params=params)\n",
    "        if response.status_code == 200:\n",
    "            movies = response.json().get('results', [])\n",
    "            all_movies.extend(movies)\n",
    "        else:\n",
    "            print(f\"Failed to fetch page {page}: {response.status_code}\")\n",
    "    return all_movies\n",
    "\n",
    "def fetch_movie_details(api_key, base_url, movie_id):\n",
    "    url = f\"{base_url}/movie/{movie_id}\"\n",
    "    params = {'api_key': api_key, 'language': 'en-US'}\n",
    "    response = requests.get(url, params=params)\n",
    "    if response.status_code == 200:\n",
    "        return response.json()\n",
    "    else:\n",
    "        print(f\"Failed to fetch details for movie {movie_id}: {response.status_code}\")\n",
    "        return {}\n",
    "\n",
    "def main():\n",
    "    # Fetch popular movies\n",
    "    popular_movies = fetch_popular_movies(API_KEY, BASE_URL, pages=5)  # Adjust number of pages as needed\n",
    "\n",
    "    # Collect detailed movie data\n",
    "    movies_data = []\n",
    "    for movie in popular_movies:\n",
    "        movie_id = movie['id']\n",
    "        movie_details = fetch_movie_details(API_KEY, BASE_URL, movie_id)\n",
    "        movies_data.append(movie_details)\n",
    "\n",
    "    # Create DataFrame and save to CSV\n",
    "    movies_df = pd.DataFrame(movies_data)\n",
    "    movies_df.to_csv('data/movies_data.csv', index=False)\n",
    "    print(\"Movie data has been saved to movies_data.csv\")\n",
    "\n",
    "if __name__ == \"__main__\":\n",
    "    main()\n"
   ]
  },
  {
   "cell_type": "code",
   "execution_count": null,
   "metadata": {},
   "outputs": [],
   "source": []
  }
 ],
 "metadata": {
  "kernelspec": {
   "display_name": "base",
   "language": "python",
   "name": "python3"
  },
  "language_info": {
   "codemirror_mode": {
    "name": "ipython",
    "version": 3
   },
   "file_extension": ".py",
   "mimetype": "text/x-python",
   "name": "python",
   "nbconvert_exporter": "python",
   "pygments_lexer": "ipython3",
   "version": "3.11.4"
  }
 },
 "nbformat": 4,
 "nbformat_minor": 2
}
