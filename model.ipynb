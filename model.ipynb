{
 "cells": [
  {
   "cell_type": "markdown",
   "metadata": {},
   "source": [
    "## 1. Loading the Data"
   ]
  },
  {
   "cell_type": "code",
   "execution_count": 5,
   "metadata": {},
   "outputs": [],
   "source": [
    "import pandas as pd\n",
    "from sklearn.model_selection import train_test_split\n",
    "\n",
    "# Load the cleaned data\n",
    "movies_data = pd.read_csv('data/cleaned_movies_data.csv')\n",
    "tv_data = pd.read_csv('data/cleaned_series_data.csv')"
   ]
  },
  {
   "cell_type": "markdown",
   "metadata": {},
   "source": [
    "## 2. TF-IDF Vectorization for Text Features"
   ]
  },
  {
   "cell_type": "code",
   "execution_count": 9,
   "metadata": {},
   "outputs": [],
   "source": [
    "movies_data['overview'].fillna('', inplace=True)\n",
    "tv_data['overview'].fillna('', inplace=True)"
   ]
  },
  {
   "cell_type": "code",
   "execution_count": 10,
   "metadata": {},
   "outputs": [],
   "source": [
    "from sklearn.feature_extraction.text import TfidfVectorizer\n",
    "\n",
    "# TF-IDF Vectorizer\n",
    "tfidf_vectorizer = TfidfVectorizer(stop_words='english')\n",
    "\n",
    "# Fit and transform the overview column for movies\n",
    "tfidf_matrix_movies = tfidf_vectorizer.fit_transform(movies_data['overview'])\n",
    "\n",
    "# Fit and transform the overview column for TV series\n",
    "tfidf_matrix_tv = tfidf_vectorizer.fit_transform(tv_data['overview'])"
   ]
  },
  {
   "cell_type": "markdown",
   "metadata": {},
   "source": [
    "## 3. Calculate Cosine Similarity\n"
   ]
  },
  {
   "cell_type": "code",
   "execution_count": 11,
   "metadata": {},
   "outputs": [],
   "source": [
    "from sklearn.metrics.pairwise import cosine_similarity\n",
    "\n",
    "### Compute the cosine similarity matrix for movies\n",
    "cosine_sim_movies = cosine_similarity(tfidf_matrix_movies, tfidf_matrix_movies)\n",
    "\n",
    "### Compute the cosine similarity matrix for TV series\n",
    "cosine_sim_tv = cosine_similarity(tfidf_matrix_tv, tfidf_matrix_tv)"
   ]
  },
  {
   "cell_type": "markdown",
   "metadata": {},
   "source": [
    "## 4. Create a Function to Get Recommendations\n"
   ]
  },
  {
   "cell_type": "code",
   "execution_count": 12,
   "metadata": {},
   "outputs": [],
   "source": [
    "# Function to get movie recommendations\n",
    "def get_movie_recommendations(title, cosine_sim=cosine_sim_movies):\n",
    "    # Get the index of the movie that matches the title\n",
    "    idx = movies_data[movies_data['title'] == title].index[0]\n",
    "\n",
    "    # Get the pairwise similarity scores of all movies with that movie\n",
    "    sim_scores = list(enumerate(cosine_sim[idx]))\n",
    "\n",
    "    # Sort the movies based on the similarity scores\n",
    "    sim_scores = sorted(sim_scores, key=lambda x: x[1], reverse=True)\n",
    "\n",
    "    # Get the scores of the 10 most similar movies\n",
    "    sim_scores = sim_scores[1:11]\n",
    "\n",
    "    # Get the movie indices\n",
    "    movie_indices = [i[0] for i in sim_scores]\n",
    "\n",
    "    # Return the top 10 most similar movies\n",
    "    return movies_data['title'].iloc[movie_indices]\n",
    "\n",
    "# Function to get TV series recommendations\n",
    "def get_tv_recommendations(name, cosine_sim=cosine_sim_tv):\n",
    "    # Get the index of the TV series that matches the name\n",
    "    idx = tv_data[tv_data['name'] == name].index[0]\n",
    "\n",
    "    # Get the pairwise similarity scores of all TV series with that TV series\n",
    "    sim_scores = list(enumerate(cosine_sim[idx]))\n",
    "\n",
    "    # Sort the TV series based on the similarity scores\n",
    "    sim_scores = sorted(sim_scores, key=lambda x: x[1], reverse=True)\n",
    "\n",
    "    # Get the scores of the 10 most similar TV series\n",
    "    sim_scores = sim_scores[1:11]\n",
    "\n",
    "    # Get the TV series indices\n",
    "    tv_indices = [i[0] for i in sim_scores]\n",
    "\n",
    "    # Return the top 10 most similar TV series\n",
    "    return tv_data['name'].iloc[tv_indices]"
   ]
  },
  {
   "cell_type": "markdown",
   "metadata": {},
   "source": [
    "## 5. Test the Recommendation Functions"
   ]
  },
  {
   "cell_type": "code",
   "execution_count": 13,
   "metadata": {},
   "outputs": [
    {
     "name": "stdout",
     "output_type": "stream",
     "text": [
      "19                     Inside Out\n",
      "387           Riley's First Date?\n",
      "5119          Secret Headquarters\n",
      "11436                       Awake\n",
      "7073     My Teacher, My Obsession\n",
      "7230                 Suzhou River\n",
      "12277                      Equals\n",
      "10309              Arlington Road\n",
      "11862                   Baby Boom\n",
      "7734                     The Maid\n",
      "Name: title, dtype: object\n",
      "8204       Requiem of the Rose King\n",
      "2142    Magical Girl Lyrical Nanoha\n",
      "8729             Dungeons & Dragons\n",
      "1885               Ranking of Kings\n",
      "1008           Suicide Squad Isekai\n",
      "6129                The Grand Canal\n",
      "6861              The Crowned Clown\n",
      "8251                   Bloody Heart\n",
      "5989                    Love Family\n",
      "946                        Mirzapur\n",
      "Name: name, dtype: object\n"
     ]
    }
   ],
   "source": [
    "# Test movie recommendations\n",
    "print(get_movie_recommendations('Inside Out 2'))\n",
    "\n",
    "# Test TV series recommendations\n",
    "print(get_tv_recommendations('House of the Dragon'))"
   ]
  },
  {
   "cell_type": "code",
   "execution_count": null,
   "metadata": {},
   "outputs": [],
   "source": []
  }
 ],
 "metadata": {
  "kernelspec": {
   "display_name": "Python 3",
   "language": "python",
   "name": "python3"
  },
  "language_info": {
   "codemirror_mode": {
    "name": "ipython",
    "version": 3
   },
   "file_extension": ".py",
   "mimetype": "text/x-python",
   "name": "python",
   "nbconvert_exporter": "python",
   "pygments_lexer": "ipython3",
   "version": "3.10.12"
  }
 },
 "nbformat": 4,
 "nbformat_minor": 2
}
